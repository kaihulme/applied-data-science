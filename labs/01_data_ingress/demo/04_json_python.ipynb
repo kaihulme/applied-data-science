{
 "cells": [
  {
   "cell_type": "code",
   "execution_count": 1,
   "metadata": {},
   "outputs": [],
   "source": [
    "from __future__ import print_function\n",
    "\n",
    "import json "
   ]
  },
  {
   "cell_type": "markdown",
   "metadata": {},
   "source": [
    "# Save to file \n",
    "\n",
    "Create data and save it to file"
   ]
  },
  {
   "cell_type": "code",
   "execution_count": 2,
   "metadata": {},
   "outputs": [],
   "source": [
    "data = {\n",
    "    'one': 1, \n",
    "    'two': 2, \n",
    "    'list': [1, 2, 3, 4], \n",
    "    'matrix': [[1, 2, 3], [4, 5, 6], [7, 8, 9]], \n",
    "    'float_list': [1.0, 2.0], \n",
    "    'dict': {\n",
    "        'one': 4, \n",
    "        'two': 5, \n",
    "        'dict': {\n",
    "            'list': [0, 1, 2, 8]\n",
    "        }\n",
    "    }\n",
    "}\n",
    "\n",
    "json.dump(data, open('data.json', 'w'), indent=2, sort_keys=True)"
   ]
  },
  {
   "cell_type": "markdown",
   "metadata": {},
   "source": [
    "# Iteration"
   ]
  },
  {
   "cell_type": "code",
   "execution_count": 3,
   "metadata": {},
   "outputs": [
    {
     "output_type": "stream",
     "name": "stdout",
     "text": [
      "  The key is: one\nThe value is: 1\n\n  The key is: two\nThe value is: 2\n\n  The key is: list\nThe value is: [1, 2, 3, 4]\n\n  The key is: matrix\nThe value is: [[1, 2, 3], [4, 5, 6], [7, 8, 9]]\n\n  The key is: float_list\nThe value is: [1.0, 2.0]\n\n  The key is: dict\nThe value is: {'one': 4, 'two': 5, 'dict': {'list': [0, 1, 2, 8]}}\n\n"
     ]
    }
   ],
   "source": [
    "for kk, vv in data.items(): \n",
    "    print('  The key is:', kk)\n",
    "    print('The value is:', vv)\n",
    "    print()"
   ]
  },
  {
   "cell_type": "markdown",
   "metadata": {},
   "source": [
    "Iterate over the elements of the matrix"
   ]
  },
  {
   "cell_type": "code",
   "execution_count": 4,
   "metadata": {},
   "outputs": [
    {
     "output_type": "stream",
     "name": "stdout",
     "text": [
      "1 2 3 \n4 5 6 \n7 8 9 \n"
     ]
    }
   ],
   "source": [
    "for row in data['matrix']: \n",
    "    for el in row: \n",
    "        print(el, end=' ')\n",
    "    print()"
   ]
  },
  {
   "cell_type": "markdown",
   "metadata": {},
   "source": [
    "# Random access\n",
    "\n",
    "Randomly access various regions of the dictionary"
   ]
  },
  {
   "cell_type": "code",
   "execution_count": 5,
   "metadata": {},
   "outputs": [
    {
     "output_type": "stream",
     "name": "stdout",
     "text": [
      "[[1001, 2, 3], [4, 5, 6], [7, 8, 9]]\n"
     ]
    }
   ],
   "source": [
    "data['matrix'][0][0] += 1000\n",
    "print(data['matrix'])"
   ]
  },
  {
   "cell_type": "code",
   "execution_count": 6,
   "metadata": {},
   "outputs": [
    {
     "output_type": "execute_result",
     "data": {
      "text/plain": [
       "{'list': [0, 1, 2, 8]}"
      ]
     },
     "metadata": {},
     "execution_count": 6
    }
   ],
   "source": [
    "data['dict']['dict']"
   ]
  },
  {
   "cell_type": "code",
   "execution_count": 7,
   "metadata": {},
   "outputs": [
    {
     "output_type": "execute_result",
     "data": {
      "text/plain": [
       "2"
      ]
     },
     "metadata": {},
     "execution_count": 7
    }
   ],
   "source": [
    "data['dict']['dict']['list'][2]"
   ]
  },
  {
   "cell_type": "markdown",
   "metadata": {},
   "source": [
    "# Load dictionary from file"
   ]
  },
  {
   "cell_type": "code",
   "execution_count": 8,
   "metadata": {},
   "outputs": [
    {
     "output_type": "stream",
     "name": "stdout",
     "text": [
      "{\n  \"dict\": {\n    \"dict\": {\n      \"list\": [\n        0,\n        1,\n        2,\n        8\n      ]\n    },\n    \"one\": 4,\n    \"two\": 5\n  },\n  \"float_list\": [\n    1.0,\n    2.0\n  ],\n  \"list\": [\n    1,\n    2,\n    3,\n    4\n  ],\n  \"matrix\": [\n    [\n      1001,\n      2,\n      3\n    ],\n    [\n      4,\n      5,\n      6\n    ],\n    [\n      7,\n      8,\n      9\n    ]\n  ],\n  \"one\": 1,\n  \"two\": 2\n}\n{\n  \"dict\": {\n    \"dict\": {\n      \"list\": [\n        0,\n        1,\n        2,\n        8\n      ]\n    },\n    \"one\": 4,\n    \"two\": 5\n  },\n  \"float_list\": [\n    1.0,\n    2.0\n  ],\n  \"list\": [\n    1,\n    2,\n    3,\n    4\n  ],\n  \"matrix\": [\n    [\n      1,\n      2,\n      3\n    ],\n    [\n      4,\n      5,\n      6\n    ],\n    [\n      7,\n      8,\n      9\n    ]\n  ],\n  \"one\": 1,\n  \"two\": 2\n}\n"
     ]
    }
   ],
   "source": [
    "data_2 = json.load(open('data.json', 'r'))\n",
    "print(json.dumps(data, indent=2, sort_keys=True))\n",
    "print(json.dumps(data_2, indent=2, sort_keys=True))"
   ]
  }
 ],
 "metadata": {
  "kernelspec": {
   "display_name": "Python 3",
   "language": "python",
   "name": "python3"
  },
  "language_info": {
   "codemirror_mode": {
    "name": "ipython",
    "version": 3
   },
   "file_extension": ".py",
   "mimetype": "text/x-python",
   "name": "python",
   "nbconvert_exporter": "python",
   "pygments_lexer": "ipython3",
   "version": "3.8.3-final"
  }
 },
 "nbformat": 4,
 "nbformat_minor": 2
}