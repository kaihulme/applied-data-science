{
 "cells": [
  {
   "cell_type": "markdown",
   "metadata": {},
   "source": [
    "# The Guardian API\n",
    "\n",
    "In the `05_web_scraping_beautiful_soup.ipynb` notebook, we saw examples on how BeautifulSoup can be used \n",
    "to parse messy HTML, to extract information, and to act as a rudimentary web crawler. \n",
    "We used The Guardian as an illustrative example about how this can be achieved. \n",
    "The reason for choosing The Guardian was because they provide a REST API to their servers. \n",
    "With the REST API it is possible to perform specific queries on their servers, and to receive \n",
    "current information from their servers according to their API guide (ie in JSON)\n",
    "\n",
    "http://open-platform.theguardian.com/\n",
    "\n",
    "In order to use their API, you will need to register for an API key. \n",
    "At the time of writing (Jan 28, 2020) this was an automated process that can be completed at \n",
    "\n",
    "https://bonobo.capi.gutools.co.uk/register/developer\n",
    "\n",
    "On registration you will receive an API key which will look like: 303qwe2k-xxxx-xxxx-xxxx-eff86a248059\n",
    "\n",
    "The API is documented here: \n",
    "\n",
    "http://open-platform.theguardian.com/documentation/\n",
    "\n",
    "and Python bindings to their API are provided by The Guardian here\n",
    "\n",
    "https://github.com/prabhath6/theguardian-api-python\n",
    "\n",
    "and these can easily be integrated into a web-crawler based on API calls, rather than being based \n",
    "on HTML parsing, etc. \n",
    "\n",
    "We use four parameters in our queries here: \n",
    "\n",
    "1. `section`: the section of the newspaper that we are interested in querying. In this case we will look at \n",
    "the technology section \n",
    "\n",
    "2. `order-by`: We have specified that the newest items should be closer to the front of the query list \n",
    "\n",
    "3. `api-key`: In this notebook, the api-key is left as `test` (works here), but for *real* deployment of such a spider an API key obtained from Guardian should be specified. For the lab tasks, you should replace `test` API key with your personal API key. \n",
    "\n",
    "4. `page-size`: The number of results to return. "
   ]
  },
  {
   "cell_type": "code",
   "execution_count": 1,
   "metadata": {},
   "outputs": [],
   "source": [
    "from __future__ import print_function\n",
    "\n",
    "import requests \n",
    "import json "
   ]
  },
  {
   "cell_type": "markdown",
   "metadata": {},
   "source": [
    "# Inspect all sections and search for technology-based sections"
   ]
  },
  {
   "cell_type": "code",
   "execution_count": 2,
   "metadata": {},
   "outputs": [],
   "source": [
    "url = 'https://content.guardianapis.com/sections?api-key=test'\n",
    "req = requests.get(url)\n",
    "src = req.text "
   ]
  },
  {
   "cell_type": "code",
   "execution_count": 3,
   "metadata": {
    "scrolled": true
   },
   "outputs": [
    {
     "data": {
      "text/plain": [
       "'ok'"
      ]
     },
     "execution_count": 3,
     "metadata": {},
     "output_type": "execute_result"
    }
   ],
   "source": [
    "json.loads(src)['response']['status']"
   ]
  },
  {
   "cell_type": "code",
   "execution_count": 4,
   "metadata": {},
   "outputs": [
    {
     "name": "stdout",
     "output_type": "stream",
     "text": [
      "dict_keys(['status', 'userTier', 'total', 'results'])\n"
     ]
    }
   ],
   "source": [
    "sections = json.loads(src)['response']\n",
    "\n",
    "print(sections.keys())"
   ]
  },
  {
   "cell_type": "code",
   "execution_count": 5,
   "metadata": {},
   "outputs": [
    {
     "name": "stdout",
     "output_type": "stream",
     "text": [
      "{\n",
      "  \"apiUrl\": \"https://content.guardianapis.com/about\",\n",
      "  \"editions\": [\n",
      "    {\n",
      "      \"apiUrl\": \"https://content.guardianapis.com/about\",\n",
      "      \"code\": \"default\",\n",
      "      \"id\": \"about\",\n",
      "      \"webTitle\": \"About\",\n",
      "      \"webUrl\": \"https://www.theguardian.com/about\"\n",
      "    }\n",
      "  ],\n",
      "  \"id\": \"about\",\n",
      "  \"webTitle\": \"About\",\n",
      "  \"webUrl\": \"https://www.theguardian.com/about\"\n",
      "}\n"
     ]
    }
   ],
   "source": [
    "print(json.dumps(sections['results'][0], indent=2, sort_keys=True))"
   ]
  },
  {
   "cell_type": "code",
   "execution_count": 6,
   "metadata": {},
   "outputs": [
    {
     "name": "stdout",
     "output_type": "stream",
     "text": [
      "Technology https://content.guardianapis.com/technology\n"
     ]
    }
   ],
   "source": [
    "for result in sections['results']: \n",
    "    if 'tech' in result['id'].lower(): \n",
    "        print(result['webTitle'], result['apiUrl'])"
   ]
  },
  {
   "cell_type": "markdown",
   "metadata": {},
   "source": [
    "# Manual query on whole API"
   ]
  },
  {
   "cell_type": "code",
   "execution_count": 7,
   "metadata": {},
   "outputs": [],
   "source": [
    "# Specify the arguments\n",
    "args = {\n",
    "    'section': 'technology', \n",
    "    'order-by': 'newest', \n",
    "    'api-key': 'test', \n",
    "    'page-size': '100',\n",
    "    'q' : 'privacy%20AND%20data'\n",
    "}\n",
    "\n",
    "# Construct the URL\n",
    "base_url = 'http://content.guardianapis.com/search'\n",
    "url = '{}?{}'.format(\n",
    "    base_url, \n",
    "    '&'.join([\"{}={}\".format(kk, vv) for kk, vv in args.items()])\n",
    ")\n",
    "\n",
    "# Make the request and extract the source\n",
    "req = requests.get(url) \n",
    "src = req.text"
   ]
  },
  {
   "cell_type": "code",
   "execution_count": 8,
   "metadata": {},
   "outputs": [
    {
     "name": "stdout",
     "output_type": "stream",
     "text": [
      "Number of byes received: 60244\n"
     ]
    }
   ],
   "source": [
    "print('Number of byes received:', len(src))"
   ]
  },
  {
   "cell_type": "markdown",
   "metadata": {},
   "source": [
    "The API returns JSON, so we parse this using the in-built JSON library. \n",
    "The API specifies that all data are returned within the `response` key, even under failure. \n",
    "Thereofre, I have immediately descended to the response field "
   ]
  },
  {
   "cell_type": "markdown",
   "metadata": {},
   "source": [
    "# Parsing the JSON"
   ]
  },
  {
   "cell_type": "code",
   "execution_count": 9,
   "metadata": {},
   "outputs": [
    {
     "name": "stdout",
     "output_type": "stream",
     "text": [
      "The following are available:\n",
      "  ['currentPage', 'orderBy', 'pageSize', 'pages', 'results', 'startIndex', 'status', 'total', 'userTier']\n"
     ]
    }
   ],
   "source": [
    "response = json.loads(src)['response']\n",
    "print('The following are available:\\n ', sorted(response.keys()))"
   ]
  },
  {
   "cell_type": "markdown",
   "metadata": {},
   "source": [
    "# Verifying the status code\n",
    "\n",
    "It is important to verify that the status message is `ok` before continuing - if it is not `ok` no 'real' data \n",
    "will have been received. "
   ]
  },
  {
   "cell_type": "code",
   "execution_count": 10,
   "metadata": {},
   "outputs": [],
   "source": [
    "assert response['status'] == 'ok'"
   ]
  },
  {
   "cell_type": "markdown",
   "metadata": {},
   "source": [
    "# Listing the results \n",
    "\n",
    "The API standard states that the results will be found in the `results` field under the `response` field. \n",
    "Furthermore, the URLs will be found in the `webUrl` field, and the title will be found in the `webTitle` \n",
    "field. \n",
    "\n",
    "First let's look to see what a single result looks like in full, and then I will print a restricted \n",
    "set of parameters on the full set of results ."
   ]
  },
  {
   "cell_type": "code",
   "execution_count": 11,
   "metadata": {},
   "outputs": [
    {
     "name": "stdout",
     "output_type": "stream",
     "text": [
      "{\n",
      "  \"apiUrl\": \"https://content.guardianapis.com/technology/2021/jan/27/facebook-earnings-stocks-revenue-fourth-quarter\",\n",
      "  \"id\": \"technology/2021/jan/27/facebook-earnings-stocks-revenue-fourth-quarter\",\n",
      "  \"isHosted\": false,\n",
      "  \"pillarId\": \"pillar/news\",\n",
      "  \"pillarName\": \"News\",\n",
      "  \"sectionId\": \"technology\",\n",
      "  \"sectionName\": \"Technology\",\n",
      "  \"type\": \"article\",\n",
      "  \"webPublicationDate\": \"2021-01-27T22:12:01Z\",\n",
      "  \"webTitle\": \"Facebook CEO Mark Zuckerberg says platform will halt political suggestions\",\n",
      "  \"webUrl\": \"https://www.theguardian.com/technology/2021/jan/27/facebook-earnings-stocks-revenue-fourth-quarter\"\n",
      "}\n"
     ]
    }
   ],
   "source": [
    "print(json.dumps(response['results'][0], indent=2, sort_keys=True))"
   ]
  },
  {
   "cell_type": "code",
   "execution_count": 12,
   "metadata": {},
   "outputs": [
    {
     "name": "stdout",
     "output_type": "stream",
     "text": [
      "https://www.theguardian.com/technology/2021/jan/27/facebook-earnings-s Facebook CEO Mark Zu\n",
      "https://www.theguardian.com/technology/2021/jan/26/uk-regulator-to-wri UK regulator to writ\n",
      "https://www.theguardian.com/technology/2021/jan/26/grindr-fined-norway Grindr fined £8.6m i\n",
      "https://www.theguardian.com/technology/2021/jan/25/google-announces-pl Google announces pla\n",
      "https://www.theguardian.com/technology/2021/jan/24/whatsapp-loses-mill WhatsApp loses milli\n",
      "https://www.theguardian.com/technology/2021/jan/24/is-it-time-to-leave Is it time to leave \n",
      "https://www.theguardian.com/technology/2021/jan/21/samsung-galaxy-s21- Samsung Galaxy S21 U\n",
      "https://www.theguardian.com/technology/2021/jan/21/facebook-admits-enc Facebook admits encr\n",
      "https://www.theguardian.com/technology/2021/jan/20/facebook-under-pres Facebook under press\n",
      "https://www.theguardian.com/technology/2021/jan/19/facebook-asks-to-ap Facebook claims it d\n",
      "https://www.theguardian.com/technology/2021/jan/16/should-you-keep-usi Should you keep usin\n",
      "https://www.theguardian.com/technology/2021/jan/14/one-third-of-austra One third of Austral\n",
      "https://www.theguardian.com/technology/2020/dec/23/amazon-ring-camera- Dozens sue Amazon's \n",
      "https://www.theguardian.com/technology/2020/dec/20/iphones-vulnerable- iPhones vulnerable t\n",
      "https://www.theguardian.com/technology/2020/dec/18/pinterest-gender-di Pinterest's $22m set\n",
      "https://www.theguardian.com/technology/2020/dec/17/us-government-cyber Hacking campaign tar\n",
      "https://www.theguardian.com/technology/2020/dec/17/google-antitrust-la More than 30 US stat\n",
      "https://www.theguardian.com/technology/2020/dec/16/facebooks-attempt-t Facebook's attempt t\n",
      "https://www.theguardian.com/technology/2020/dec/10/facebook-lawsuits-t Facebook lawsuits: t\n",
      "https://www.theguardian.com/technology/2020/dec/08/facebook-antitrust- Facebook faces antit\n",
      "https://www.theguardian.com/technology/2020/dec/08/zuckerberg-threaten Zuckerberg threatene\n",
      "https://www.theguardian.com/technology/2020/dec/07/amazon-echo-2020-re Amazon Echo 2020 rev\n",
      "https://www.theguardian.com/technology/2020/dec/02/microsoft-apologise Microsoft apologises\n",
      "https://www.theguardian.com/technology/2020/nov/26/international-campa Yanis Varoufakis cal\n",
      "https://www.theguardian.com/technology/2020/nov/26/microsoft-productiv Microsoft productivi\n",
      "https://www.theguardian.com/technology/2020/nov/26/iphone-12-pro-max-r iPhone 12 Pro Max re\n",
      "https://www.theguardian.com/technology/2020/nov/25/part-human-part-mac Part human, part mac\n",
      "https://www.theguardian.com/technology/2020/nov/24/antiquated-process- 'Antiquated process'\n",
      "https://www.theguardian.com/technology/2020/nov/20/apple-accuses-faceb Apple accuses Facebo\n",
      "https://www.theguardian.com/technology/2020/nov/19/iphone-12-mini-revi iPhone 12 mini revie\n",
      "https://www.theguardian.com/technology/2020/nov/17/google-adds-opt-out Google adds opt-out \n",
      "https://www.theguardian.com/technology/2020/nov/17/apple-faces-privacy Apple faces privacy \n",
      "https://www.theguardian.com/technology/2020/nov/13/macos-11-big-sur-re macOS 11 Big Sur rev\n",
      "https://www.theguardian.com/technology/2020/nov/12/homepod-mini-review HomePod mini review:\n",
      "https://www.theguardian.com/technology/2020/nov/04/iphone-12-pro-revie iPhone 12 Pro review\n",
      "https://www.theguardian.com/technology/2020/oct/30/privacy-concerns-as Uber Eats drivers to\n",
      "https://www.theguardian.com/technology/2020/oct/29/iphone-12-review-ap iPhone 12 review: Ap\n",
      "https://www.theguardian.com/technology/live/2020/oct/28/section-230-he Section 230 hearings\n",
      "https://www.theguardian.com/technology/2020/oct/26/apple-ipad-air-2020 Apple iPad Air 2020 \n",
      "https://www.theguardian.com/technology/2020/oct/20/google-antitrust-ch Washington's crackdo\n",
      "https://www.theguardian.com/technology/commentisfree/2020/oct/15/cambr Behind Cambridge Ana\n",
      "https://www.theguardian.com/technology/live/2020/oct/13/iphone-12-laun iPhone 12 launch: Ap\n",
      "https://www.theguardian.com/technology/2020/oct/12/google-nest-audio-r Google Nest Audio re\n",
      "https://www.theguardian.com/technology/2020/oct/06/amazon-google-faceb Congress should rein\n",
      "https://www.theguardian.com/technology/2020/oct/05/apple-watch-series- Apple Watch Series 6\n",
      "https://www.theguardian.com/technology/2020/sep/30/trade-unions-urge-e Trade unions urge EU\n",
      "https://www.theguardian.com/technology/2020/sep/30/apple-ipad-2020-rev Apple iPad 2020 revi\n",
      "https://www.theguardian.com/technology/2020/sep/24/amazon-launches-sph Amazon launches sphe\n",
      "https://www.theguardian.com/technology/2020/sep/24/facebook-oversight- Facebook's long-awai\n",
      "https://www.theguardian.com/technology/2020/sep/24/how-to-download-the How to download the \n",
      "https://www.theguardian.com/technology/2020/sep/22/facebook-says-it-ma Facebook says it may\n",
      "https://www.theguardian.com/technology/2020/sep/22/tiktok-sale-the-rea TikTok: why it is be\n",
      "https://www.theguardian.com/technology/2020/sep/17/apples-surprise-os- Apple's surprise OS \n",
      "https://www.theguardian.com/technology/2020/sep/14/tiktok-bytedance-to Oracle confirms it w\n",
      "https://www.theguardian.com/technology/2020/sep/14/facebook-suffers-bl Facebook suffers blo\n",
      "https://www.theguardian.com/technology/2020/sep/09/android-11-release- Android 11 release: \n",
      "https://www.theguardian.com/technology/2020/sep/08/wheely-ride-hailing Wheely ride-hailing \n",
      "https://www.theguardian.com/technology/2020/aug/31/zoom-shares-record- Zoom shares hit reco\n",
      "https://www.theguardian.com/technology/2020/aug/28/amazons-halo-wristb Amazon's Halo wristb\n",
      "https://www.theguardian.com/technology/2020/aug/27/google-and-apple-to Google and Apple to \n",
      "https://www.theguardian.com/technology/2020/aug/24/zoom-apologises-aft Zoom apologises afte\n",
      "https://www.theguardian.com/technology/2020/aug/24/tiktok-lawsuit-trum TikTok suing Trump a\n",
      "https://www.theguardian.com/technology/2020/aug/17/google-giving-user- Google giving far-ri\n",
      "https://www.theguardian.com/technology/2020/aug/11/south-wales-police- South Wales police l\n",
      "https://www.theguardian.com/world/2020/aug/10/government-paid-vote-lea Government paid Vote\n",
      "https://www.theguardian.com/technology/2020/aug/07/donald-trump-tiktok Can Trump ban TikTok\n",
      "https://www.theguardian.com/technology/2020/aug/07/instagram-reels-fac Instagram Reels: Fac\n",
      "https://www.theguardian.com/technology/2020/aug/07/what-is-wechat-and- What is WeChat and w\n",
      "https://www.theguardian.com/technology/2020/aug/05/tiktok-gen-z-millen 'I don't care': youn\n",
      "https://www.theguardian.com/technology/2020/aug/04/pixel-4a-review-the Pixel 4a review: the\n",
      "https://www.theguardian.com/technology/2020/aug/03/tiktok-row-trump-to TikTok sale: Trump a\n",
      "https://www.theguardian.com/technology/2020/aug/01/boris-johnson-zoom- ‘After Boris Johnson\n",
      "https://www.theguardian.com/technology/2020/aug/01/best-smart-speakers The best smart speak\n",
      "https://www.theguardian.com/technology/2020/jul/31/tiktok-ban-us-trump TikTok: Trump report\n",
      "https://www.theguardian.com/technology/live/2020/jul/29/tech-congress- ‘This should never h\n",
      "https://www.theguardian.com/technology/2020/jul/26/roger-mcnamee-faceb Roger McNamee: ‘Face\n",
      "https://www.theguardian.com/technology/2020/jul/20/tiktok-fails-to-sha TikTok fails to shak\n",
      "https://www.theguardian.com/technology/2020/jul/20/uk-government-admit Government admits br\n",
      "https://www.theguardian.com/technology/2020/jul/20/uber-drivers-to-lau Uber drivers to laun\n",
      "https://www.theguardian.com/technology/2020/jul/17/us-judge-whatsapp-l US judge: WhatsApp l\n",
      "https://www.theguardian.com/technology/2020/jul/16/tiktok-video-sharin Should you delete Ti\n",
      "https://www.theguardian.com/technology/2020/jul/16/the-background-to-e The background to EU\n",
      "https://www.theguardian.com/technology/2020/jul/16/tech-firms-like-fac Tech firms like Face\n",
      "https://www.theguardian.com/technology/2020/jul/16/there-are-calls-to- There are calls to b\n",
      "https://www.theguardian.com/technology/2020/jul/14/huawei-decision-may Huawei decision 'may\n",
      "https://www.theguardian.com/technology/2020/jul/14/tiktok-tells-austra TikTok tells Austral\n",
      "https://www.theguardian.com/technology/2020/jul/10/tiktok-amazon-secur Amazon tells employe\n",
      "https://www.theguardian.com/technology/2020/jul/06/tiktok-may-be-data- TikTok may be 'data \n",
      "https://www.theguardian.com/technology/2020/jul/02/earn-it-act-online- Online privacy exper\n",
      "https://www.theguardian.com/technology/2020/jul/02/whatsapp-groups-con What's wrong with Wh\n",
      "https://www.theguardian.com/technology/2020/jun/24/google-says-it-will Google says it will \n",
      "https://www.theguardian.com/technology/2020/jun/24/businesses-face-pri Businesses face priv\n",
      "https://www.theguardian.com/technology/2020/jun/23/uks-facial-recognit UK’s facial recognit\n",
      "https://www.theguardian.com/technology/2020/jun/22/apple-ditches-intel Apple ditches Intel \n",
      "https://www.theguardian.com/technology/live/2020/jun/22/apple-expected WWDC 2020: Apple lea\n",
      "https://www.theguardian.com/technology/2020/jun/22/apple-ios-14-new-fe Apple iOS 14: new fe\n",
      "https://www.theguardian.com/technology/2020/jun/17/zoom-encryption-fre Zoom will provide en\n",
      "https://www.theguardian.com/technology/2020/jun/16/apple-pay-and-app-s Apple Pay and App St\n",
      "https://www.theguardian.com/technology/2020/jun/10/amazon-rekognition- Amazon to ban police\n",
      "https://www.theguardian.com/technology/2020/jun/09/ibm-quits-facial-re IBM quits facial-rec\n"
     ]
    }
   ],
   "source": [
    "for result in response['results']: \n",
    "    print(result['webUrl'][:70], result['webTitle'][:20])"
   ]
  }
 ],
 "metadata": {
  "kernelspec": {
   "display_name": "Python 3",
   "language": "python",
   "name": "python3"
  },
  "language_info": {
   "codemirror_mode": {
    "name": "ipython",
    "version": 3
   },
   "file_extension": ".py",
   "mimetype": "text/x-python",
   "name": "python",
   "nbconvert_exporter": "python",
   "pygments_lexer": "ipython3",
   "version": "3.8.5"
  }
 },
 "nbformat": 4,
 "nbformat_minor": 4
}
